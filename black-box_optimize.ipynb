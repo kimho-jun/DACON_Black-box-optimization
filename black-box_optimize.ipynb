{
 "cells": [
  {
   "cell_type": "code",
   "execution_count": 421,
   "id": "8b814196-e0c5-45f3-b5a3-fa55ec605d1d",
   "metadata": {},
   "outputs": [],
   "source": [
    "import pandas as pd\n",
    "import numpy as np\n",
    "\n",
    "import copy\n",
    "import seaborn as sns\n",
    "import matplotlib.pyplot as plt\n",
    "\n",
    "import warnings\n",
    "warnings.filterwarnings('ignore')\n",
    "\n",
    "import time\n",
    "\n",
    "import sklearn\n",
    "from sklearn.ensemble import RandomForestRegressor\n",
    "from sklearn.metrics import mean_squared_error, recall_score\n",
    "from sklearn.model_selection import train_test_split\n",
    "from sklearn.linear_model import LinearRegression\n",
    "from sklearn.model_selection import GridSearchCV, RandomizedSearchCV\n",
    "\n",
    "import torch\n",
    "from torch.utils.data import DataLoader, TensorDataset, Dataset\n",
    "from torch.nn.utils import clip_grad_norm_\n",
    "import torch.nn.functional as F\n",
    "import torch.nn as nn\n",
    "\n",
    "from tqdm import tqdm # import tqdm 시 모듈 에러 발생\n",
    "from sklearn.decomposition import PCA  \n",
    "\n",
    "# import xgboost as xgb\n",
    "import lightgbm as lgb\n",
    "import random\n",
    "from sklearn.metrics import mean_squared_error\n",
    "\n",
    "from sklearn.manifold import TSNE\n",
    "from sklearn.cluster import KMeans\n",
    "\n",
    "from sklearn.metrics import silhouette_score\n",
    "from sklearn.metrics import calinski_harabasz_score\n",
    "\n",
    "from statsmodels.stats.outliers_influence import variance_inflation_factor\n",
    "\n",
    "\n",
    "def set_seed(seed): \n",
    "    torch.manual_seed(seed)\n",
    "    torch.cuda.manual_seed_all(seed)  # PyTorch GPU 시드 설정\n",
    "    torch.backends.cudnn.deterministic = True  # CuDNN의 결정론적 연산 보장\n",
    "    torch.backends.cudnn.benchmark = False  # CuDNN의 비결정적 알고리즘 비활성화\n",
    "    random.seed(seed)\n",
    "    np.random.seed(seed)"
   ]
  },
  {
   "cell_type": "code",
   "execution_count": 2,
   "id": "bbc1b681-994d-406f-a497-38967b6cb595",
   "metadata": {},
   "outputs": [
    {
     "name": "stdout",
     "output_type": "stream",
     "text": [
      "-------------------------- Use library version --------------------------\n",
      "Numpy_Version:  {'1.24.3'}\n",
      "Pandas_Version:  {'2.2.2'}\n",
      "scikit-learn version:  {'1.4.2'}\n",
      "'Pytorch_Version:  {'2.3.1'}\n",
      "LightGBM_Version:  {'4.5.0'}\n",
      "---------------------------------------------------------------------\n"
     ]
    }
   ],
   "source": [
    "print(\"-------------------------- Use library version --------------------------\")\n",
    "print(f\"Numpy_Version: \",{np.__version__})\n",
    "print(f\"Pandas_Version: \", {pd.__version__})\n",
    "print(f\"scikit-learn version: \",{sklearn.__version__})\n",
    "print(f\"'Pytorch_Version: \", {torch.__version__})\n",
    "print(f\"LightGBM_Version: \", {lgb.__version__})\n",
    "print(\"---------------------------------------------------------------------\")"
   ]
  },
  {
   "cell_type": "code",
   "execution_count": 3,
   "id": "7a285548-4853-4eeb-ad13-2a5c49240585",
   "metadata": {},
   "outputs": [
    {
     "name": "stdout",
     "output_type": "stream",
     "text": [
      "cuda\n"
     ]
    }
   ],
   "source": [
    "device = torch.device('cuda' if torch.cuda.is_available() else 'cpu')\n",
    "print(device)"
   ]
  },
  {
   "cell_type": "code",
   "execution_count": 4,
   "id": "49cd907a-98b0-4abd-a184-da4c7feed6db",
   "metadata": {},
   "outputs": [],
   "source": [
    "tr_df = pd.read_csv('train.csv')\n",
    "# test_df = pd.read_csv('test.csv') # 경진대회 /기간이 끝나서 테스트 데이터 사용 x"
   ]
  },
  {
   "cell_type": "code",
   "execution_count": 5,
   "id": "9980c01f-0b30-4ea5-8252-2bcffb668830",
   "metadata": {},
   "outputs": [
    {
     "name": "stdout",
     "output_type": "stream",
     "text": [
      "Shape: (32094, 11)\n",
      "Shape: (4012, 11)\n",
      "Shape: (4012, 11)\n",
      "Shape: (32094,)\n",
      "Shape: (4012,)\n",
      "Shape: (4012,)\n"
     ]
    }
   ],
   "source": [
    "train = copy.copy(tr_df.drop(['y','ID'], axis =1))\n",
    "train_y = copy.copy(tr_df['y'])\n",
    "\n",
    "tr, validation, tr_y, validation_y = train_test_split(train, train_y, random_state=20, test_size=0.2)\n",
    "val, test, val_y, test_y = train_test_split(validation, validation_y, random_state=20, test_size=0.5)\n",
    "\n",
    "\n",
    "def dataframe_shape(df):\n",
    "    print(f'Shape: {df.shape}')\n",
    "\n",
    "dataframe_shape(tr)\n",
    "dataframe_shape(val)\n",
    "dataframe_shape(test)\n",
    "dataframe_shape(tr_y)\n",
    "dataframe_shape(val_y)\n",
    "dataframe_shape(test_y)"
   ]
  },
  {
   "cell_type": "markdown",
   "id": "5de1fa75-623d-473b-a005-7d4188492fd3",
   "metadata": {},
   "source": [
    "# Random Forest 적용"
   ]
  },
  {
   "cell_type": "code",
   "execution_count": 154,
   "id": "fcd10d86-6ff5-49bb-976a-5878659164b1",
   "metadata": {},
   "outputs": [],
   "source": [
    "# cross validation을 사용하여 기존에 나눴던 훈련용, 검증용 concat \n",
    "\n",
    "for_tree_tr = pd.concat([tr, val], axis=0)\n",
    "for_tree__tr_y = pd.concat([tr_y, val_y], axis= 0)"
   ]
  },
  {
   "cell_type": "code",
   "execution_count": 71,
   "id": "d3548f82-8f62-45e1-a013-338451f1e6b3",
   "metadata": {},
   "outputs": [
    {
     "name": "stdout",
     "output_type": "stream",
     "text": [
      "Random Forest Regressor 학습 소요시간:443.0sec\n"
     ]
    }
   ],
   "source": [
    "rfr = RandomForestRegressor(random_state=43, n_jobs= -1)\n",
    "\n",
    "random_params = {\n",
    "    'n_estimators' : range(10,150,20),\n",
    "    'max_depth' : [-1, 4,5],\n",
    "    'min_samples_leaf' :  [10,11,12],\n",
    "    'max_features' : np.arange(0.6, 1.01, 0.1)\n",
    "}\n",
    "\n",
    "n_iter = 300\n",
    "\n",
    "start = time.time()\n",
    "\n",
    "random_rfr = RandomizedSearchCV(rfr, \n",
    "                                param_distributions=random_params,\n",
    "                                n_iter = n_iter,\n",
    "                                cv = 5,\n",
    "                                scoring = 'neg_mean_squared_error',\n",
    "                                random_state = 43)\n",
    "\n",
    "random_rfr.fit(for_tree_tr.values, for_tree__tr_y.values)\n",
    "\n",
    "print(f'Random Forest Regressor 학습 소요시간:{np.round(time.time() - start, 0)}sec')"
   ]
  },
  {
   "cell_type": "code",
   "execution_count": 73,
   "id": "2d2fd43a-d2e6-4829-be99-9aa2512c47e8",
   "metadata": {},
   "outputs": [
    {
     "name": "stdout",
     "output_type": "stream",
     "text": [
      "RandomForestRegressor(max_depth=5, max_features=0.7999999999999999,\n",
      "                      min_samples_leaf=12, n_estimators=110, n_jobs=-1,\n",
      "                      random_state=43)\n",
      "Top_10%_threshold : 86.32085485822003\n",
      "예측 상위 10% 중, 실제 상위 5% 포함 비율 : 0.86567\n"
     ]
    }
   ],
   "source": [
    "# 아무런 전처리 적용하지 않고 바로 RandomForest 적용했을 때 cv=5, validation Performance\n",
    "vanila_rfr_result = pd.DataFrame(random_rfr.cv_results_)\n",
    "result_sorted = vanila_rfr_result.sort_values('mean_test_score', ascending=False)\n",
    "\n",
    "random_rfr_best_model = random_rfr.best_estimator_\n",
    "print(random_rfr_best_model)\n",
    "random_rfr_best_model.fit(for_tree_tr.values, for_tree__tr_y.values)\n",
    "\n",
    "vanila_rfr_perds = random_rfr_best_model.predict(test.values)\n",
    "\n",
    "# 예측 값 중 상위 10% 선별\n",
    "rf_preds_10_threshold = np.percentile(vanila_rfr_perds, 90)\n",
    "print(f'Top_10%_threshold : {rf_preds_10_threshold}')\n",
    "rf_pred_binary =(vanila_rfr_perds >= rf_preds_10_threshold).astype('int')\n",
    "\n",
    "# 실제 값 중 상위 5% 선별\n",
    "true_5_threshold = np.percentile(test_y, 95)\n",
    "true_binary = (test_y >= true_5_threshold).astype('int')\n",
    "\n",
    "print(f'예측 상위 10% 중, 실제 상위 5% 포함 비율 : {np.round(recall_score(true_binary, rf_pred_binary), 5)}')"
   ]
  },
  {
   "cell_type": "markdown",
   "id": "189d7eb9-f3cc-49ec-aa97-a7063fcb6975",
   "metadata": {},
   "source": []
  },
  {
   "cell_type": "markdown",
   "id": "eda8b97f-7385-4a5d-a1b7-e6ebbc646132",
   "metadata": {},
   "source": [
    "# LGBM Reressor 적용"
   ]
  },
  {
   "cell_type": "code",
   "execution_count": 155,
   "id": "17db0e5b-f2fd-4285-9b9b-97e180deeae9",
   "metadata": {},
   "outputs": [
    {
     "name": "stdout",
     "output_type": "stream",
     "text": [
      "LightGBM Regressor 학습 소요시간:55.0sec\n"
     ]
    }
   ],
   "source": [
    "# 모델을 바꿔서 적용해보기\n",
    "\n",
    "lgb_reg = lgb.LGBMRegressor(random_state=43, n_jobs=-1, verbose=-1)\n",
    "\n",
    "lgbreg_random_params ={\n",
    "            'max_depth' : [-1,3,4,5],  # 파라미터 지정하지 않으면 기본 값-1 부여 -> 이는 제한을 두지 않겠다는 의미\n",
    "            'num_leaves' : [3,4,5,6,7],  # 트리 당 리프 개수  보통 2^max_depth 보다 1 작게!  (2^3-1 = 7)\n",
    "            'n_estimators' : range(30,100,10),  # 트리 개수  보통 학습률 작으면 크게함, 너무 크면 과적합 위험 있음\n",
    "            'min_child_samples': [20,21,22,23],  # 하위 노드 최소 데이터 개수 \n",
    "            'learning_rate': np.arange(0.05, 0.2, 0.05),  # 학습률\n",
    "            'subsample': [0.6, 0.7, 0.8, 0.9, 1.0],  # 전체 데이터셋에서 사용할 데이터 비율 (일반화 성능, 과적합 방지 위한 파라미터)\n",
    "            'colsample_bytree' : [0.6, 0.7, 0.8, 0.9, 1.0]  # 사용할 피쳐의 비율\n",
    "        }\n",
    "\n",
    "n_iter = 500\n",
    "\n",
    "start = time.time()\n",
    "\n",
    "random_lgb_reg = RandomizedSearchCV(lgb_reg,\n",
    "                                    param_distributions = lgbreg_random_params,\n",
    "                                    n_iter = n_iter,\n",
    "                                    cv = 5,\n",
    "                                    scoring= 'neg_mean_squared_error',\n",
    "                                    random_state=43\n",
    "                                    )\n",
    "\n",
    "\n",
    "random_lgb_reg.fit(for_tree_tr, for_tree__tr_y)\n",
    "\n",
    "print(f'LightGBM Regressor 학습 소요시간:{np.round(time.time() - start, 0)}sec')\n",
    "\n",
    "# 추가로, feature_importance 구할 수 있는데, 'gain' , 'split' 두 가지 기준이 존재\n",
    "# split은 트리 내 분기 시 역핧을 크게 한 변수에 중요도를 더욱 부여하는 것이고\n",
    "# gain은 말 그래도 정보 이득. 즉, pre_split, post_split간 차이를 보고 기여를 많이 한 변수에 중요도를 더욱 부여하는 것 "
   ]
  },
  {
   "cell_type": "code",
   "execution_count": 156,
   "id": "023a09b2-669e-48d1-88da-74c3fa47af48",
   "metadata": {},
   "outputs": [
    {
     "name": "stdout",
     "output_type": "stream",
     "text": [
      "LGBMRegressor(colsample_bytree=0.8, max_depth=4, min_child_samples=22,\n",
      "              n_estimators=80, n_jobs=-1, num_leaves=5, random_state=43,\n",
      "              subsample=0.6, verbose=-1)\n",
      "Top_10%_threshold :86.42533263191187\n",
      "============================================\n",
      "예측 값 상위 10% 중, 실제 상위 5% 포함 비율: 0.87065\n"
     ]
    }
   ],
   "source": [
    "vanila_lgb_result = pd.DataFrame(random_lgb_reg.cv_results_)\n",
    "result_sorted = vanila_lgb_result.sort_values('mean_test_score', ascending=False)\n",
    "\n",
    "random_best_lgb = random_lgb_reg.best_estimator_\n",
    "print(random_best_lgb)\n",
    "random_best_lgb.fit(for_tree_tr, for_tree__tr_y)\n",
    "random_best_lgb_preds = random_best_lgb.predict(test)\n",
    "\n",
    "lgb_top_10_threshold = np.percentile(random_best_lgb_preds, 90)\n",
    "lgb_pred_binary = (random_best_lgb_preds >= lgb_top_10_threshold).astype('int')\n",
    "\n",
    "# 실제 값 중 상위 5% 선별\n",
    "true_5_threshold = np.percentile(test_y, 95)\n",
    "true_binary = (test_y >= true_5_threshold).astype('int')\n",
    "\n",
    "print(f'Top_10%_threshold :{lgb_top_10_threshold}')\n",
    "print(\"============================================\")\n",
    "print(f'예측 값 상위 10% 중, 실제 상위 5% 포함 비율: {np.round(recall_score(true_binary, lgb_pred_binary), 5)}')"
   ]
  },
  {
   "cell_type": "markdown",
   "id": "f751221e-cdbe-48b5-bdc9-f8db9009c6d9",
   "metadata": {},
   "source": [
    "### 데이터 EDA와 다른 파라미터 탐색 방법을 찾아보자"
   ]
  },
  {
   "cell_type": "code",
   "execution_count": null,
   "id": "4dd0236f-57b8-40a6-8437-98bc4f71d88b",
   "metadata": {},
   "outputs": [],
   "source": []
  },
  {
   "cell_type": "code",
   "execution_count": null,
   "id": "bcda358e-5878-4742-8c7e-a215d0dadbd2",
   "metadata": {},
   "outputs": [],
   "source": [
    "# from sklearn.inspection import permutation_importance\n",
    "\n",
    "# importance_res = permutation_importance(random_rfr_best_model,\n",
    "#                                         tr_input_df.values,\n",
    "#                                         tr_output_df.values,\n",
    "#                                         n_repeats= 10,\n",
    "#                                         scoring='neg_mean_squared_error',\n",
    "#                                         random_state=1)\n",
    "\n",
    "# # 특성의 중요도를 파악하는 방법으로, 예측에 사용된 변수의 중요도를 확인할 수 있음\n",
    "\n",
    "# importance_res['importances_mean'].reshape(1,-1)  # 중요도 가장 적은 변수 하나씩 제거해서 oob_score 좋아질 때 까지 진행"
   ]
  },
  {
   "cell_type": "markdown",
   "id": "4cd71129-14ff-403c-8431-55811231311e",
   "metadata": {},
   "source": [
    "# AutoEncoder + LightGBM"
   ]
  },
  {
   "cell_type": "code",
   "execution_count": 93,
   "id": "8206aeca-c77d-451c-b4c5-91c3253228fa",
   "metadata": {},
   "outputs": [
    {
     "data": {
      "image/png": "[encoded data removed]",
      "text/plain": [
       "<Figure size 600x400 with 2 Axes>"
      ]
     },
     "metadata": {},
     "output_type": "display_data"
    }
   ],
   "source": [
    "plt.subplots(figsize=(6,4))\n",
    "sns.heatmap(train.corr(), fmt = '.2f', cmap = 'Blues', annot = True, annot_kws = {'size': 6})\n",
    "plt.title('Input_features Correlation Heatmap')\n",
    "plt.show()"
   ]
  },
  {
   "cell_type": "code",
   "execution_count": 94,
   "id": "b095c1f8-f01c-4b17-b9f6-dd2584634cea",
   "metadata": {},
   "outputs": [
    {
     "data": {
      "text/html": [
       "<div>\n",
       "<style scoped>\n",
       "    .dataframe tbody tr th:only-of-type {\n",
       "        vertical-align: middle;\n",
       "    }\n",
       "\n",
       "    .dataframe tbody tr th {\n",
       "        vertical-align: top;\n",
       "    }\n",
       "\n",
       "    .dataframe thead th {\n",
       "        text-align: right;\n",
       "    }\n",
       "</style>\n",
       "<table border=\"1\" class=\"dataframe\">\n",
       "  <thead>\n",
       "    <tr style=\"text-align: right;\">\n",
       "      <th></th>\n",
       "      <th>x_0</th>\n",
       "      <th>x_1</th>\n",
       "      <th>x_2</th>\n",
       "      <th>x_3</th>\n",
       "      <th>x_4</th>\n",
       "      <th>x_5</th>\n",
       "      <th>x_6</th>\n",
       "      <th>x_7</th>\n",
       "      <th>x_8</th>\n",
       "      <th>x_9</th>\n",
       "      <th>x_10</th>\n",
       "    </tr>\n",
       "  </thead>\n",
       "  <tbody>\n",
       "    <tr>\n",
       "      <th>VIF</th>\n",
       "      <td>2839.29541</td>\n",
       "      <td>1465.373664</td>\n",
       "      <td>19909.382794</td>\n",
       "      <td>1464.544254</td>\n",
       "      <td>3105.85077</td>\n",
       "      <td>63900.788983</td>\n",
       "      <td>18372.119851</td>\n",
       "      <td>1482.959207</td>\n",
       "      <td>40118.588079</td>\n",
       "      <td>6454.843181</td>\n",
       "      <td>1083.631926</td>\n",
       "    </tr>\n",
       "  </tbody>\n",
       "</table>\n",
       "</div>"
      ],
      "text/plain": [
       "            x_0          x_1           x_2          x_3         x_4  \\\n",
       "VIF  2839.29541  1465.373664  19909.382794  1464.544254  3105.85077   \n",
       "\n",
       "              x_5           x_6          x_7           x_8          x_9  \\\n",
       "VIF  63900.788983  18372.119851  1482.959207  40118.588079  6454.843181   \n",
       "\n",
       "            x_10  \n",
       "VIF  1083.631926  "
      ]
     },
     "execution_count": 94,
     "metadata": {},
     "output_type": "execute_result"
    }
   ],
   "source": [
    "vif_df = pd.DataFrame(index=train.columns)\n",
    "vif_df[\"VIF\"] = [variance_inflation_factor(train.values, i) for i in range(train.shape[1])]\n",
    "vif_df.T"
   ]
  },
  {
   "cell_type": "markdown",
   "id": "4354457f-0830-4a92-bc91-48cf650ec1a6",
   "metadata": {},
   "source": [
    "## 오토인코더 사용, latent variable 추출"
   ]
  },
  {
   "cell_type": "code",
   "execution_count": 6,
   "id": "82838dee-b8c4-4846-84f2-567c67d654fe",
   "metadata": {},
   "outputs": [],
   "source": [
    "class early_stopping:\n",
    "    def __init__(self, patience, delta):\n",
    "        self.loss = float('inf')\n",
    "        self.patience = patience\n",
    "        self.delta = delta\n",
    "        self.counter = 0\n",
    "\n",
    "    def __call__(self, loss):\n",
    "        if loss < self.loss + self.delta:\n",
    "            self.loss = loss\n",
    "        else: \n",
    "            self.counter += 1\n",
    "            if self.counter == self.patience:\n",
    "                return True\n",
    "            return False"
   ]
  },
  {
   "cell_type": "code",
   "execution_count": 7,
   "id": "c5809c0c-1407-4f18-8a8a-bee77743096a",
   "metadata": {},
   "outputs": [],
   "source": [
    "class private_datasets(Dataset):\n",
    "    def __init__(self, x):\n",
    "        self.x = x\n",
    "\n",
    "    def __len__(self):\n",
    "        return len(self.x)\n",
    "\n",
    "    def __getitem__(self, idx):\n",
    "        # x = torch.tensor(self.x.iloc[idx], dtypes = torch.float32)\n",
    "        x= self.x.iloc[idx]\n",
    "        return x\n",
    "\n",
    "def collate_fn(batch): # 배치 단위 텐서/구조체로 변환하는 함수\n",
    "    input = torch.tensor(batch, dtype = torch.float32)\n",
    "    return input\n",
    "\n",
    "tr_dataset = private_datasets(tr)\n",
    "val_dataset = private_datasets(val)\n",
    "test_dataset = private_datasets(test)\n",
    "\n",
    "tr_dataloader = DataLoader(tr_dataset, batch_size=64, collate_fn=collate_fn, shuffle = True)\n",
    "val_dataloader = DataLoader(val_dataset, batch_size=64, collate_fn=collate_fn, shuffle = False)\n",
    "test_dataloader = DataLoader(test_dataset, batch_size=64, collate_fn=collate_fn, shuffle = False)"
   ]
  },
  {
   "cell_type": "code",
   "execution_count": 185,
   "id": "097b4475-783b-4b46-b27d-d87088adef75",
   "metadata": {},
   "outputs": [],
   "source": [
    "class Autoencoder(nn.Module):\n",
    "    def __init__(self): # 직접 은닉층, 잠재 차원 정의 할 거면 여기서! hidden_dim, latent_dim) 선언\n",
    "        super(Autoencoder,self).__init__()\n",
    "        \n",
    "        self.encoder = nn.Sequential(\n",
    "                nn.Linear(11, 20),\n",
    "                nn.BatchNorm1d(20),\n",
    "                nn.ReLU(),\n",
    "                nn.Linear(20, 20), #  hidden_dim, latent_dim\n",
    "                nn.BatchNorm1d(20),\n",
    "                nn.ReLU(),\n",
    "                nn.Linear(20, 50),\n",
    "        ).to(device)\n",
    "        \n",
    "        self.decoder = nn.Sequential(\n",
    "                nn.Linear(50, 20),  #  latent_dim, hidden_dim\n",
    "                nn.BatchNorm1d(20),\n",
    "                nn.ReLU(),\n",
    "                nn.Linear(20, 20),\n",
    "                nn.BatchNorm1d(20),\n",
    "                nn.ReLU(),\n",
    "                nn.Linear(20, 11),\n",
    "        ).to(device)\n",
    "\n",
    "\n",
    "    \n",
    "    \n",
    "\n",
    "        self.optimizer = torch.optim.Adam(\n",
    "            [\n",
    "                        {'params' : self.encoder.parameters(), 'lr' : 5e-4, 'weight_decay': 0.001},\n",
    "                        {'params' : self.decoder.parameters(), 'lr' : 5e-4, 'weight_decay': 0.001}\n",
    "            ]\n",
    "        )\n",
    "\n",
    "        self.criterion = nn.MSELoss()\n",
    "\n",
    "        # self.sparsity_weight = sparsity_weight\n",
    "        # self.criterion = nn.HuberLoss()\n",
    "\n",
    "    def forward(self, data):\n",
    "        encoded = self.encoder(data)\n",
    "        result_data = self.decoder(encoded)\n",
    "        \n",
    "        return result_data\n",
    "\n",
    "    def sparsity_loss(self, latent_z):\n",
    "        return torch.mean(torch.abs(latent_z))\n",
    "        \n",
    "        \n",
    "    def train_autoencoder(self): # 메서드 명을 train으로 하면 self.train()에서 재귀에러 발생\n",
    "        self.train()\n",
    "        train_loss_list = []\n",
    "        val_loss_list = []\n",
    "        num_epochs = 0\n",
    "        delta = 0.00001\n",
    "        encoder_best_weight = None # 실제 테스트 데이터에 적용할 때는 인코더의 가중치만 필요\n",
    "        patient_limit = 10\n",
    "        patient_check = 0\n",
    "        epochs = 100\n",
    "        best_params = None\n",
    "        init_val_loss = float('inf')\n",
    "        for epoch in range(epochs):\n",
    "            tr_loss = 0\n",
    "            for tr_batch in tqdm(tr_dataloader, total = len(tr_dataloader)):\n",
    "                tr_x = tr_batch\n",
    "                tr_x = tr_x.to(device)\n",
    "                self.optimizer.zero_grad()\n",
    "                pred_feature= self.forward(tr_x)\n",
    "                # loss = self.criterion(pred_feature, tr_x) + self.sparsity_weight * self.sparsity_loss(pred_feature)\n",
    "                loss = self.criterion(pred_feature, tr_x)\n",
    "                tr_loss += loss.item()\n",
    "    \n",
    "                loss.backward()\n",
    "                clip_grad_norm_(self.parameters(), max_norm= 1.0)\n",
    "            \n",
    "                self.optimizer.step()\n",
    "            train_loss_list.append(tr_loss / len(tr_dataloader))\n",
    "            print(f'epoch: {epoch + 1}, 훈련 손실: {(tr_loss / len(tr_dataloader)) : 2f}')\n",
    "            \n",
    "            self.eval()\n",
    "            val_loss = 0\n",
    "            print_loss = 0\n",
    "            with torch.no_grad():\n",
    "                for val_batch in val_dataloader:\n",
    "                    val_x = val_batch\n",
    "                    val_x = val_batch.to(device)\n",
    "                    preds = self.forward(val_x)\n",
    "                    # loss = self.criterion(preds, val_x) + self.sparsity_weight * self.sparsity_loss(preds)\n",
    "                    loss = self.criterion(preds, val_x)\n",
    "                    val_loss += loss.item()\n",
    "                \n",
    "                print_loss = val_loss / len(val_dataloader)\n",
    "                val_loss_list.append(print_loss)\n",
    "                print(f'epoch: {epoch + 1}, 검증 손실: {np.round(print_loss,6)}')\n",
    "                \n",
    "                if print_loss < init_val_loss:\n",
    "                    num_epochs = epoch + 1\n",
    "                    patient_check = 0\n",
    "                    init_val_loss = print_loss\n",
    "                    encoder_best_weight = self.encoder.state_dict()\n",
    "                    decoder_best_weight = self.decoder.state_dict()\n",
    "                else:\n",
    "                    patient_check += 1\n",
    "        \n",
    "            if patient_check == patient_limit:\n",
    "                print(f\"가중치 저장 시점 Epoch: {num_epochs}\")\n",
    "                print(f\"검증 손실: {init_val_loss} \")\n",
    "                print('****학습 종료****')\n",
    "                break\n",
    "       \n",
    "        # weight_path  = 'sams_params/best_param_feature_extraction(60).pth'\n",
    "        # torch.save(\n",
    "        #     {\n",
    "        #      'encoder_state_dict' : encoder_best_weight\n",
    "        #      'decoder_state_dict' : decoder_best_weight\n",
    "        #     }, weight_path\n",
    "        #      )\n",
    "        return train_loss_list, val_loss_list\n",
    "auto_encoder = Autoencoder()\n",
    "\n",
    "# 'sams_params/best_param_feature_extraction6.pth'  학습률 0.01 ,  epoch: 6, 훈련 손실:  0.003670  , 검증 손실: 0.005"
   ]
  },
  {
   "cell_type": "code",
   "execution_count": 186,
   "id": "df927ad7-786a-4e6d-8170-ffd198a9068f",
   "metadata": {
    "scrolled": true
   },
   "outputs": [
    {
     "name": "stderr",
     "output_type": "stream",
     "text": [
      "100%|███████████████████████████████████████████████████████████████████████████████| 502/502 [00:01<00:00, 260.22it/s]\n"
     ]
    },
    {
     "name": "stdout",
     "output_type": "stream",
     "text": [
      "epoch: 1, 훈련 손실:  0.306633\n",
      "epoch: 1, 검증 손실: 0.009474\n"
     ]
    },
    {
     "name": "stderr",
     "output_type": "stream",
     "text": [
      "100%|███████████████████████████████████████████████████████████████████████████████| 502/502 [00:01<00:00, 300.67it/s]\n"
     ]
    },
    {
     "name": "stdout",
     "output_type": "stream",
     "text": [
      "epoch: 2, 훈련 손실:  0.000792\n",
      "epoch: 2, 검증 손실: 0.000261\n"
     ]
    },
    {
     "name": "stderr",
     "output_type": "stream",
     "text": [
      "100%|███████████████████████████████████████████████████████████████████████████████| 502/502 [00:01<00:00, 293.90it/s]\n"
     ]
    },
    {
     "name": "stdout",
     "output_type": "stream",
     "text": [
      "epoch: 3, 훈련 손실:  0.000206\n",
      "epoch: 3, 검증 손실: 0.000181\n"
     ]
    },
    {
     "name": "stderr",
     "output_type": "stream",
     "text": [
      "100%|███████████████████████████████████████████████████████████████████████████████| 502/502 [00:01<00:00, 298.13it/s]\n"
     ]
    },
    {
     "name": "stdout",
     "output_type": "stream",
     "text": [
      "epoch: 4, 훈련 손실:  0.000172\n",
      "epoch: 4, 검증 손실: 0.000167\n"
     ]
    },
    {
     "name": "stderr",
     "output_type": "stream",
     "text": [
      "100%|███████████████████████████████████████████████████████████████████████████████| 502/502 [00:01<00:00, 269.25it/s]\n"
     ]
    },
    {
     "name": "stdout",
     "output_type": "stream",
     "text": [
      "epoch: 5, 훈련 손실:  0.000173\n",
      "epoch: 5, 검증 손실: 0.000182\n"
     ]
    },
    {
     "name": "stderr",
     "output_type": "stream",
     "text": [
      "100%|███████████████████████████████████████████████████████████████████████████████| 502/502 [00:01<00:00, 268.17it/s]\n"
     ]
    },
    {
     "name": "stdout",
     "output_type": "stream",
     "text": [
      "epoch: 6, 훈련 손실:  0.000206\n",
      "epoch: 6, 검증 손실: 0.000225\n"
     ]
    },
    {
     "name": "stderr",
     "output_type": "stream",
     "text": [
      "100%|███████████████████████████████████████████████████████████████████████████████| 502/502 [00:01<00:00, 282.93it/s]\n"
     ]
    },
    {
     "name": "stdout",
     "output_type": "stream",
     "text": [
      "epoch: 7, 훈련 손실:  0.000250\n",
      "epoch: 7, 검증 손실: 0.000268\n"
     ]
    },
    {
     "name": "stderr",
     "output_type": "stream",
     "text": [
      "100%|███████████████████████████████████████████████████████████████████████████████| 502/502 [00:01<00:00, 280.47it/s]\n"
     ]
    },
    {
     "name": "stdout",
     "output_type": "stream",
     "text": [
      "epoch: 8, 훈련 손실:  0.000291\n",
      "epoch: 8, 검증 손실: 0.000321\n"
     ]
    },
    {
     "name": "stderr",
     "output_type": "stream",
     "text": [
      "100%|███████████████████████████████████████████████████████████████████████████████| 502/502 [00:01<00:00, 258.72it/s]\n"
     ]
    },
    {
     "name": "stdout",
     "output_type": "stream",
     "text": [
      "epoch: 9, 훈련 손실:  0.000325\n",
      "epoch: 9, 검증 손실: 0.000341\n"
     ]
    },
    {
     "name": "stderr",
     "output_type": "stream",
     "text": [
      "100%|███████████████████████████████████████████████████████████████████████████████| 502/502 [00:01<00:00, 298.77it/s]\n"
     ]
    },
    {
     "name": "stdout",
     "output_type": "stream",
     "text": [
      "epoch: 10, 훈련 손실:  0.000334\n",
      "epoch: 10, 검증 손실: 0.000339\n"
     ]
    },
    {
     "name": "stderr",
     "output_type": "stream",
     "text": [
      "100%|███████████████████████████████████████████████████████████████████████████████| 502/502 [00:01<00:00, 296.93it/s]\n"
     ]
    },
    {
     "name": "stdout",
     "output_type": "stream",
     "text": [
      "epoch: 11, 훈련 손실:  0.000330\n",
      "epoch: 11, 검증 손실: 0.000329\n"
     ]
    },
    {
     "name": "stderr",
     "output_type": "stream",
     "text": [
      "100%|███████████████████████████████████████████████████████████████████████████████| 502/502 [00:01<00:00, 289.66it/s]\n"
     ]
    },
    {
     "name": "stdout",
     "output_type": "stream",
     "text": [
      "epoch: 12, 훈련 손실:  0.000328\n",
      "epoch: 12, 검증 손실: 0.00034\n"
     ]
    },
    {
     "name": "stderr",
     "output_type": "stream",
     "text": [
      "100%|███████████████████████████████████████████████████████████████████████████████| 502/502 [00:01<00:00, 297.65it/s]\n"
     ]
    },
    {
     "name": "stdout",
     "output_type": "stream",
     "text": [
      "epoch: 13, 훈련 손실:  0.000327\n",
      "epoch: 13, 검증 손실: 0.000332\n"
     ]
    },
    {
     "name": "stderr",
     "output_type": "stream",
     "text": [
      "100%|███████████████████████████████████████████████████████████████████████████████| 502/502 [00:01<00:00, 297.88it/s]\n"
     ]
    },
    {
     "name": "stdout",
     "output_type": "stream",
     "text": [
      "epoch: 14, 훈련 손실:  0.000327\n",
      "epoch: 14, 검증 손실: 0.000341\n",
      "가중치 저장 시점 Epoch: 4\n",
      "검증 손실: 0.00016744530806872283 \n",
      "****학습 종료****\n"
     ]
    }
   ],
   "source": [
    "set_seed(7)\n",
    "tr_loss, val_loss = auto_encoder.train_autoencoder()"
   ]
  },
  {
   "cell_type": "code",
   "execution_count": 316,
   "id": "750c4ab9-610a-4bf5-8050-bd5fcac378cb",
   "metadata": {},
   "outputs": [
    {
     "data": {
      "text/plain": [
       "<matplotlib.legend.Legend at 0x1e278c53d10>"
      ]
     },
     "execution_count": 316,
     "metadata": {},
     "output_type": "execute_result"
    },
    {
     "data": {
      "image/png": "[encoded data removed]",
      "text/plain": [
       "<Figure size 600x400 with 1 Axes>"
      ]
     },
     "metadata": {},
     "output_type": "display_data"
    }
   ],
   "source": [
    "plt.subplots(1,1, figsize=(6,4))\n",
    "epochs = np.arange(1,14)\n",
    "plt.plot(tr_loss, marker = 'o', markersize = 5, label ='Train_loss')\n",
    "plt.plot(val_loss, marker = '^', markersize = 3, color='r', label ='Validation_loss')\n",
    "plt.axvline(x=4, color='black', linestyle='--', alpha=0.5, label ='early_stopping_point')\n",
    "plt.xticks(epochs)\n",
    "\n",
    "plt.xlabel(\"Epochs\")\n",
    "plt.ylabel(\"Reconstruction_loss\")\n",
    "plt.title(\"Overcomplete Autoencoder Loss Graph\", fontsize = 12)\n",
    "\n",
    "plt.tick_params('x',labelsize = 9)\n",
    "plt.tick_params('y',labelsize = 9)\n",
    "plt.legend(fontsize= 9)"
   ]
  },
  {
   "cell_type": "code",
   "execution_count": 179,
   "id": "e36b4daf-0949-42f3-ad4a-a4130f5275cc",
   "metadata": {},
   "outputs": [],
   "source": [
    "# import gc\n",
    "# del auto_encoder\n",
    "# gc.collect()\n",
    "# torch.cuda.empty_cache()"
   ]
  },
  {
   "cell_type": "code",
   "execution_count": 163,
   "id": "3d800705-586e-44fd-8c39-e6fb2093ef97",
   "metadata": {},
   "outputs": [
    {
     "data": {
      "text/plain": [
       "<All keys matched successfully>"
      ]
     },
     "execution_count": 163,
     "metadata": {},
     "output_type": "execute_result"
    }
   ],
   "source": [
    "encoder = nn.Sequential(\n",
    "                nn.Linear(11, 20),\n",
    "                nn.BatchNorm1d(20),\n",
    "                nn.ReLU(),\n",
    "                nn.Linear(20, 20), #  hidden_dim, latent_dim\n",
    "                nn.BatchNorm1d(20),\n",
    "                nn.ReLU(),\n",
    "                nn.Linear(20, 30),\n",
    "        ).to(device)\n",
    "\n",
    "check_point = torch.load('sams_params/best_param_feature_extraction(30).pth')  # 가중치가 float 32 타입으로 저장되기 때문에 형 변환 필요\n",
    "\n",
    "encoder.load_state_dict(check_point['encoder_state_dict'])\n",
    "# decoder.load_state_dict(check_point['decoder_state_dict'])"
   ]
  },
  {
   "cell_type": "code",
   "execution_count": 164,
   "id": "3ad9d928-f890-46c0-80e1-c455c449a83e",
   "metadata": {},
   "outputs": [],
   "source": [
    "def autoencoder_feature(data):\n",
    "    encode_res = encoder(data)\n",
    "\n",
    "    use_feature_to_numpy = encode_res.detach().cpu().numpy()\n",
    "    return pd.DataFrame(use_feature_to_numpy)\n",
    "\n",
    "ae_tr = autoencoder_feature(torch.tensor(tr.values, dtype = torch.float32).to(device))\n",
    "ae_val = autoencoder_feature(torch.tensor(val.values, dtype = torch.float32).to(device))\n",
    "ae_test = autoencoder_feature(torch.tensor(test.values, dtype = torch.float32).to(device))\n",
    "\n",
    "for_tree_ae_tr = pd.concat([ae_tr, ae_val], axis=0)\n",
    "for_tree_ae_tr_y = pd.concat([tr_y, val_y], axis= 0)"
   ]
  },
  {
   "cell_type": "markdown",
   "id": "c35bf2b9-a8a4-4c46-8b1f-607f0371c687",
   "metadata": {},
   "source": []
  },
  {
   "cell_type": "code",
   "execution_count": 166,
   "id": "5a83d202-250c-41f2-bff4-5fe74d432643",
   "metadata": {},
   "outputs": [
    {
     "name": "stdout",
     "output_type": "stream",
     "text": [
      "학습 소요시간:96.0sec\n"
     ]
    }
   ],
   "source": [
    "# OverComplete AutoEndoer 적용했을 때\n",
    "start = time.time()\n",
    "\n",
    "lgb_reg = lgb.LGBMRegressor(random_state=43, n_jobs=-1, verbose=-1)\n",
    "\n",
    "lgbreg_random_params ={\n",
    "            'max_depth' : [-1,3,4,5],  # 파라미터 지정하지 않으면 기본 값-1 부여 -> 이는 제한을 두지 않겠다는 의미\n",
    "            'num_leaves' : [3,4,5,6,7],  # 트리 당 리프 개수  보통 2^max_depth 보다 1 작게!  (2^3-1 = 7)\n",
    "            'n_estimators' : range(30,100,10),  # 트리 개수  보통 학습률 작으면 크게함, 너무 크면 과적합 위험 있음\n",
    "            'min_child_samples': [20,21,22,23],  # 하위 노드 최소 데이터 개수 \n",
    "            'learning_rate': np.arange(0.05, 0.2, 0.05),  # 학습률\n",
    "            'subsample': [0.6, 0.7, 0.8, 0.9, 1.0],  # 전체 데이터셋에서 사용할 데이터 비율 (일반화 성능, 과적합 방지 위한 파라미터)\n",
    "            'colsample_bytree' : [0.6, 0.7, 0.8, 0.9, 1.0]  # 사용할 피쳐의 비율\n",
    "        }\n",
    "\n",
    "n_iter = 500\n",
    "\n",
    "random_lgb_reg = RandomizedSearchCV(lgb_reg,\n",
    "                                    param_distributions = lgbreg_random_params,\n",
    "                                    n_iter = n_iter,\n",
    "                                    cv = 5,\n",
    "                                    scoring = 'neg_mean_squared_error',\n",
    "                                    random_state=43\n",
    "                                    )\n",
    "\n",
    "\n",
    "random_lgb_reg.fit(for_tree_ae_tr, for_tree_ae_tr_y)\n",
    "\n",
    "print(f'학습 소요시간:{np.round(time.time() - start, 0)}sec')\n",
    "\n",
    "# 추가로, feature_importance 구할 수 있는데, 'gain' , 'split' 두 가지 기준이 존재\n",
    "# split은 트리 내 분기 시 역핧을 크게 한 변수에 중요도를 더욱 부여하는 것이고\n",
    "# gain은 말 그래도 정보 이득. 즉, pre_split, post_split간 차이를 보고 기여를 많이 한 변수에 중요도를 더욱 부여하는 것 "
   ]
  },
  {
   "cell_type": "markdown",
   "id": "a4bc4ac2-5dcd-4df7-abbd-babf7d25f742",
   "metadata": {},
   "source": [
    "n_job = 1일 때 약 233초\n",
    "device_type = gpu일 때 약 265초\n",
    "n_job = -1일 때 약 66초  --> BEST!\n",
    "\n",
    "latent 크기가 30인 경우의 소요시간이지만 소요시간 차이의 비율은 거의 유지됨"
   ]
  },
  {
   "cell_type": "markdown",
   "id": "35962315-d968-4ea7-8619-4c7f544e6d7e",
   "metadata": {},
   "source": []
  },
  {
   "cell_type": "markdown",
   "id": "fb4ac213-b8ab-4cc7-805c-8c30a881a5b2",
   "metadata": {},
   "source": [
    "#### latent 30차원, 오토인코더 학습률 5e-4, weight_decay(L2) 1e-3, 클리핑 max_norm 1, "
   ]
  },
  {
   "cell_type": "code",
   "execution_count": 168,
   "id": "72069279-9871-44bc-90f1-a59d284d6041",
   "metadata": {},
   "outputs": [
    {
     "name": "stdout",
     "output_type": "stream",
     "text": [
      "LGBMRegressor(min_child_samples=22, n_estimators=60, n_jobs=-1, num_leaves=3,\n",
      "              random_state=43, subsample=0.9, verbose=-1)\n",
      "Top_10%_threshold :86.358240753605\n",
      "========================\n",
      "예측 값 상위 10% 중, 실제 상위 5% 포함 비율: 0.89055\n"
     ]
    }
   ],
   "source": [
    "vanila_lgb_result = pd.DataFrame(random_lgb_reg.cv_results_)\n",
    "result_sorted = vanila_lgb_result.sort_values('mean_test_score', ascending=False)\n",
    "\n",
    "ae_random_best_lgb = random_lgb_reg.best_estimator_\n",
    "print(ae_random_best_lgb)\n",
    "ae_random_best_lgb.fit(for_tree_ae_tr, for_tree_ae_tr_y)\n",
    "ae_random_best_lgb_preds = ae_random_best_lgb.predict(ae_test)\n",
    "\n",
    "ae_lgb_top_10_threshold = np.percentile(ae_random_best_lgb_preds, 90)\n",
    "ae_lgb_pred_binary = (ae_random_best_lgb_preds >= ae_lgb_top_10_threshold).astype('int')\n",
    "\n",
    "# 실제 값 중 상위 5% 선별\n",
    "true_5_threshold = np.percentile(test_y, 95)\n",
    "true_binary = (test_y >= true_5_threshold).astype('int')\n",
    "\n",
    "print(f'Top_10%_threshold :{ae_lgb_top_10_threshold}')\n",
    "print(\"========================\")\n",
    "print(f'예측 값 상위 10% 중, 실제 상위 5% 포함 비율: {np.round(recall_score(true_binary, ae_lgb_pred_binary), 5)}')"
   ]
  },
  {
   "cell_type": "markdown",
   "id": "97217ba0-8df8-40d3-82b8-3a88f528dad6",
   "metadata": {},
   "source": []
  },
  {
   "cell_type": "markdown",
   "id": "046c7bff-3056-4469-99ca-bf21445dd9fc",
   "metadata": {},
   "source": [
    "#### latent 40차원, 오토인코더 학습률 5e-4, weight_decay(L2) 1e-3, 클리핑 max_norm 1, "
   ]
  },
  {
   "cell_type": "code",
   "execution_count": 162,
   "id": "dd69cbd8-d8f5-408d-bd66-102c600f4987",
   "metadata": {},
   "outputs": [
    {
     "name": "stdout",
     "output_type": "stream",
     "text": [
      "LGBMRegressor(colsample_bytree=0.7, min_child_samples=23, n_estimators=70,\n",
      "              n_jobs=-1, num_leaves=4, random_state=43, subsample=0.7,\n",
      "              verbose=-1)\n",
      "Top_10%_threshold :86.30191004283505\n",
      "========================\n",
      "예측 값 상위 10% 중, 실제 상위 5% 포함 비율: 0.87065\n"
     ]
    }
   ],
   "source": [
    "vanila_lgb_result = pd.DataFrame(random_lgb_reg.cv_results_)\n",
    "result_sorted = vanila_lgb_result.sort_values('mean_test_score', ascending=False)\n",
    "\n",
    "ae_random_best_lgb = random_lgb_reg.best_estimator_\n",
    "print(ae_random_best_lgb)\n",
    "ae_random_best_lgb.fit(for_tree_ae_tr, for_tree_ae_tr_y)\n",
    "ae_random_best_lgb_preds = ae_random_best_lgb.predict(ae_test)\n",
    "\n",
    "ae_lgb_top_10_threshold = np.percentile(ae_random_best_lgb_preds, 90)\n",
    "ae_lgb_pred_binary = (ae_random_best_lgb_preds >= ae_lgb_top_10_threshold).astype('int')\n",
    "\n",
    "# 실제 값 중 상위 5% 선별\n",
    "true_5_threshold = np.percentile(test_y, 95)\n",
    "true_binary = (test_y >= true_5_threshold).astype('int')\n",
    "\n",
    "print(f'Top_10%_threshold :{ae_lgb_top_10_threshold}')\n",
    "print(\"========================\")\n",
    "print(f'예측 값 상위 10% 중, 실제 상위 5% 포함 비율: {np.round(recall_score(true_binary, ae_lgb_pred_binary), 5)}')"
   ]
  },
  {
   "cell_type": "markdown",
   "id": "f425241d-6d58-476d-9521-382c78e596ba",
   "metadata": {},
   "source": []
  },
  {
   "cell_type": "markdown",
   "id": "ca709496-0955-44c3-82ee-67245424229b",
   "metadata": {},
   "source": [
    "#### latent 50차원, 오토인코더 학습률 5e-4, weight_decay(L2) 1e-3, 클리핑 max_norm 1, "
   ]
  },
  {
   "cell_type": "code",
   "execution_count": 153,
   "id": "bc755413-82a8-4e74-9ee3-3d2f513e3b9d",
   "metadata": {},
   "outputs": [
    {
     "name": "stdout",
     "output_type": "stream",
     "text": [
      "LGBMRegressor(colsample_bytree=0.7, learning_rate=0.15000000000000002,\n",
      "              max_depth=5, min_child_samples=22, n_estimators=60, n_jobs=-1,\n",
      "              num_leaves=4, random_state=43, subsample=0.7, verbose=-1)\n",
      "Top_10%_threshold :86.21537828631793\n",
      "========================\n",
      "예측 값 상위 10% 중, 실제 상위 5% 포함 비율: 0.9005\n"
     ]
    }
   ],
   "source": [
    "vanila_lgb_result = pd.DataFrame(random_lgb_reg.cv_results_)\n",
    "result_sorted = vanila_lgb_result.sort_values('mean_test_score', ascending=False)\n",
    "\n",
    "ae_random_best_lgb = random_lgb_reg.best_estimator_\n",
    "print(ae_random_best_lgb)\n",
    "ae_random_best_lgb.fit(for_tree_ae_tr, for_tree_ae_tr_y)\n",
    "ae_random_best_lgb_preds = ae_random_best_lgb.predict(ae_test)\n",
    "\n",
    "ae_lgb_top_10_threshold = np.percentile(ae_random_best_lgb_preds, 90)\n",
    "ae_lgb_pred_binary = (ae_random_best_lgb_preds >= ae_lgb_top_10_threshold).astype('int')\n",
    "\n",
    "# 실제 값 중 상위 5% 선별\n",
    "true_5_threshold = np.percentile(test_y, 95)\n",
    "true_binary = (test_y >= true_5_threshold).astype('int')\n",
    "\n",
    "print(f'Top_10%_threshold :{ae_lgb_top_10_threshold}')\n",
    "print(\"========================\")\n",
    "print(f'예측 값 상위 10% 중, 실제 상위 5% 포함 비율: {np.round(recall_score(true_binary, ae_lgb_pred_binary), 5)}')"
   ]
  },
  {
   "cell_type": "markdown",
   "id": "7ac66eff-95b0-4275-bee1-c13eb5621ccf",
   "metadata": {},
   "source": []
  },
  {
   "cell_type": "markdown",
   "id": "12a92ffd-7779-48f6-a3ea-d342877702a6",
   "metadata": {},
   "source": [
    "#### latent 60차원, 오토인코더 학습률 5e-4, weight_decay(L2) 1e-3, 클리핑 max_norm 1, "
   ]
  },
  {
   "cell_type": "code",
   "execution_count": 148,
   "id": "9f353d6f-334a-4ae0-9a87-ec0ad021c5fa",
   "metadata": {},
   "outputs": [
    {
     "name": "stdout",
     "output_type": "stream",
     "text": [
      "LGBMRegressor(colsample_bytree=0.9, learning_rate=0.15000000000000002,\n",
      "              max_depth=3, min_child_samples=22, n_estimators=30, n_jobs=-1,\n",
      "              num_leaves=5, random_state=43, verbose=-1)\n",
      "Top_10%_threshold :86.34275088082336\n",
      "========================\n",
      "예측 값 상위 10% 중, 실제 상위 5% 포함 비율: 0.88557\n"
     ]
    }
   ],
   "source": [
    "vanila_lgb_result = pd.DataFrame(random_lgb_reg.cv_results_)\n",
    "result_sorted = vanila_lgb_result.sort_values('mean_test_score', ascending=False)\n",
    "\n",
    "ae_random_best_lgb = random_lgb_reg.best_estimator_\n",
    "print(ae_random_best_lgb)\n",
    "ae_random_best_lgb.fit(for_tree_ae_tr, for_tree_ae_tr_y)\n",
    "ae_random_best_lgb_preds = ae_random_best_lgb.predict(ae_test)\n",
    "\n",
    "ae_lgb_top_10_threshold = np.percentile(ae_random_best_lgb_preds, 90)\n",
    "ae_lgb_pred_binary = (ae_random_best_lgb_preds >= ae_lgb_top_10_threshold).astype('int')\n",
    "\n",
    "# 실제 값 중 상위 5% 선별\n",
    "true_5_threshold = np.percentile(test_y, 95)\n",
    "true_binary = (test_y >= true_5_threshold).astype('int')\n",
    "\n",
    "print(f'Top_10%_threshold :{ae_lgb_top_10_threshold}')\n",
    "print(\"========================\")\n",
    "print(f'예측 값 상위 10% 중, 실제 상위 5% 포함 비율: {np.round(recall_score(true_binary, ae_lgb_pred_binary), 5)}')"
   ]
  },
  {
   "cell_type": "markdown",
   "id": "939362dc-75bf-4373-8dd8-3bca81f85663",
   "metadata": {},
   "source": [
    "### Kmeans + silhouette_score"
   ]
  },
  {
   "cell_type": "code",
   "execution_count": 363,
   "id": "411385c9-dceb-4855-b4fb-d386849e6d24",
   "metadata": {},
   "outputs": [],
   "source": [
    "# Within-Cluster Sum of Squares (wcss)\n",
    "wcss = []\n",
    "ks = range(1,10)\n",
    "for k in ks:\n",
    "    kmeans = KMeans(n_clusters=k, random_state=0)\n",
    "    kmeans.fit(for_tree_tr.values)\n",
    "    wcss.append(kmeans.inertia_)\n"
   ]
  },
  {
   "cell_type": "code",
   "execution_count": 403,
   "id": "e5492382-e5c5-4280-97a2-4def40f547b6",
   "metadata": {},
   "outputs": [
    {
     "data": {
      "image/png": "[encoded data removed]",
      "text/plain": [
       "<Figure size 640x480 with 1 Axes>"
      ]
     },
     "metadata": {},
     "output_type": "display_data"
    }
   ],
   "source": [
    "plt.plot(ks, wcss, marker = 'o', label = 'WCSS_curve')\n",
    "plt.xticks(np.arange(1,10))\n",
    "plt.axvline(3, linestyle='--', color= 'grey', label = 'optimal_num_cluster')\n",
    "plt.xlabel('Number of Cluster')\n",
    "plt.ylabel('Within Cluster Sum of Squares(inertia)')\n",
    "plt.legend(fontsize=10)\n",
    "plt.title(\"Elbow method\", fontsize= 12)\n",
    "plt.tick_params('x', labelsize= 7)\n",
    "plt.tick_params('y', labelsize= 7)"
   ]
  },
  {
   "cell_type": "code",
   "execution_count": 417,
   "id": "26c53b39-7ed2-4fd3-9363-8bfde1553920",
   "metadata": {},
   "outputs": [
    {
     "name": "stdout",
     "output_type": "stream",
     "text": [
      "기본 데이터 실루엣 계수: 0.5767453991017194\n",
      "AE 변형 데이터 실루엣 계수: 0.6880526542663574\n",
      "===================================================\n",
      "실루엣 계수 차이: 0.11130725516463802\n"
     ]
    }
   ],
   "source": [
    "kmeans = KMeans(n_clusters=3, random_state=0)\n",
    "\n",
    "v_predict = kmeans.fit_predict(for_tree_tr.values)\n",
    "ae_predict = kmeans.fit_predict(for_tree_ae_tr.values)\n",
    "\n",
    "v_sil = silhouette_score(for_tree_tr.values, v_predict)\n",
    "ae_sil = silhouette_score(for_tree_ae_tr.values, ae_predict)\n",
    "\n",
    "print(f\"기본 데이터 실루엣 계수: {v_sil}\")\n",
    "print(f\"AE 변형 데이터 실루엣 계수: {ae_sil}\")\n",
    "print(\"===================================================\")\n",
    "print(f\"실루엣 계수 차이: {ae_sil - v_sil}\")"
   ]
  },
  {
   "cell_type": "code",
   "execution_count": 426,
   "id": "a64b18db-3b5e-4a12-abaa-a428a84e0be5",
   "metadata": {},
   "outputs": [
    {
     "name": "stdout",
     "output_type": "stream",
     "text": [
      "기본 데이터 CH: 98984.48767141283\n",
      "AE 변형 데이터 CH: 376258.0995619912\n",
      "===================================================\n",
      "분산 차이 Ratio: 3.8011824722577847\n"
     ]
    }
   ],
   "source": [
    "v_ch = calinski_harabasz_score(for_tree_tr.values, v_predict)\n",
    "ae_ch = calinski_harabasz_score(for_tree_ae_tr.values, ae_predict)\n",
    "\n",
    "print(f\"기본 데이터 CH: {v_ch}\")\n",
    "print(f\"AE 변형 데이터 CH: {ae_ch}\")\n",
    "print(\"===================================================\")\n",
    "print(f\"분산 차이 Ratio: {ae_ch / v_ch}\")"
   ]
  }
 ],
 "metadata": {
  "kernelspec": {
   "display_name": "Python (junenv)",
   "language": "python",
   "name": "junenv"
  },
  "language_info": {
   "codemirror_mode": {
    "name": "ipython",
    "version": 3
   },
   "file_extension": ".py",
   "mimetype": "text/x-python",
   "name": "python",
   "nbconvert_exporter": "python",
   "pygments_lexer": "ipython3",
   "version": "3.11.7"
  }
 },
 "nbformat": 4,
 "nbformat_minor": 5
}
